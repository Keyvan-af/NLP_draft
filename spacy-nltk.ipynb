{
 "cells": [
  {
   "cell_type": "code",
   "execution_count": 2,
   "id": "018d080c",
   "metadata": {},
   "outputs": [],
   "source": [
    "# import spacy\n",
    "import en_core_web_sm\n",
    "\n"
   ]
  },
  {
   "cell_type": "code",
   "execution_count": 3,
   "id": "841d2e28",
   "metadata": {},
   "outputs": [],
   "source": [
    "# x = spacy.load(\"en_core_web_sm\")\n",
    "# import en_core_web_sm\n",
    "\n",
    "nlp = en_core_web_sm.load()\n",
    "doc= nlp(\"Ashghar agha. boro dige\")"
   ]
  },
  {
   "cell_type": "code",
   "execution_count": 4,
   "id": "c7c5c001",
   "metadata": {},
   "outputs": [
    {
     "data": {
      "text/plain": [
       "['tok2vec', 'tagger', 'parser', 'attribute_ruler', 'lemmatizer', 'ner']"
      ]
     },
     "execution_count": 4,
     "metadata": {},
     "output_type": "execute_result"
    }
   ],
   "source": [
    "nlp.pipe_names"
   ]
  },
  {
   "cell_type": "code",
   "execution_count": 15,
   "id": "d07f2a08",
   "metadata": {},
   "outputs": [
    {
     "name": "stdout",
     "output_type": "stream",
     "text": [
      "Ashghar agha.\n",
      "boro dige\n"
     ]
    }
   ],
   "source": [
    "for sentence in doc.sents:\n",
    "    print(sentence)"
   ]
  },
  {
   "cell_type": "code",
   "execution_count": 16,
   "id": "b7d67df7",
   "metadata": {},
   "outputs": [
    {
     "name": "stdout",
     "output_type": "stream",
     "text": [
      "Ashghar\n",
      "agha\n",
      ".\n",
      "boro\n",
      "dige\n"
     ]
    }
   ],
   "source": [
    "for sentence in doc.sents:\n",
    "    for word in sentence:\n",
    "            print(word)"
   ]
  },
  {
   "cell_type": "code",
   "execution_count": 20,
   "id": "d515df5f",
   "metadata": {},
   "outputs": [
    {
     "name": "stdout",
     "output_type": "stream",
     "text": [
      "showing info https://raw.githubusercontent.com/nltk/nltk_data/gh-pages/index.xml\n"
     ]
    },
    {
     "data": {
      "text/plain": [
       "True"
      ]
     },
     "execution_count": 20,
     "metadata": {},
     "output_type": "execute_result"
    }
   ],
   "source": [
    "import nltk\n",
    "\n",
    "nltk.download()"
   ]
  },
  {
   "cell_type": "code",
   "execution_count": 18,
   "id": "7f513608",
   "metadata": {},
   "outputs": [],
   "source": [
    "from nltk.tokenize import sent_tokenize"
   ]
  },
  {
   "cell_type": "code",
   "execution_count": 24,
   "id": "5d1d325b",
   "metadata": {},
   "outputs": [
    {
     "data": {
      "text/plain": [
       "['dr.aha asghar .', 'salam dr. salam khodafz.', 'hello goodby']"
      ]
     },
     "execution_count": 24,
     "metadata": {},
     "output_type": "execute_result"
    }
   ],
   "source": [
    "sent_tokenize(\"dr.aha asghar . salam dr. salam khodafz. hello goodby\")"
   ]
  },
  {
   "cell_type": "code",
   "execution_count": 25,
   "id": "49742bc1",
   "metadata": {},
   "outputs": [],
   "source": [
    "from nltk.tokenize import word_tokenize"
   ]
  },
  {
   "cell_type": "code",
   "execution_count": 26,
   "id": "1e322612",
   "metadata": {},
   "outputs": [
    {
     "data": {
      "text/plain": [
       "['dr.aha',\n",
       " 'asghar',\n",
       " '.',\n",
       " 'salam',\n",
       " 'dr.',\n",
       " 'salam',\n",
       " 'khodafz',\n",
       " '.',\n",
       " 'hello',\n",
       " 'goodby']"
      ]
     },
     "execution_count": 26,
     "metadata": {},
     "output_type": "execute_result"
    }
   ],
   "source": [
    "word_tokenize(\"dr.aha asghar . salam dr. salam khodafz. hello goodby\")"
   ]
  },
  {
   "cell_type": "code",
   "execution_count": null,
   "id": "0fd8bb91",
   "metadata": {},
   "outputs": [],
   "source": []
  }
 ],
 "metadata": {
  "kernelspec": {
   "display_name": "Python 3 (ipykernel)",
   "language": "python",
   "name": "python3"
  },
  "language_info": {
   "codemirror_mode": {
    "name": "ipython",
    "version": 3
   },
   "file_extension": ".py",
   "mimetype": "text/x-python",
   "name": "python",
   "nbconvert_exporter": "python",
   "pygments_lexer": "ipython3",
   "version": "3.10.9"
  }
 },
 "nbformat": 4,
 "nbformat_minor": 5
}
