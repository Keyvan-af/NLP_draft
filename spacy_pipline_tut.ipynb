{
 "cells": [
  {
   "cell_type": "code",
   "execution_count": 1,
   "id": "3cca06c9",
   "metadata": {},
   "outputs": [],
   "source": [
    "import spacy"
   ]
  },
  {
   "cell_type": "code",
   "execution_count": 3,
   "id": "541f7e28",
   "metadata": {},
   "outputs": [],
   "source": [
    "nlp= spacy.load(\"en_core_web_sm\")"
   ]
  },
  {
   "cell_type": "code",
   "execution_count": 4,
   "id": "92ec5a7b",
   "metadata": {},
   "outputs": [
    {
     "data": {
      "text/plain": [
       "['tok2vec', 'tagger', 'parser', 'attribute_ruler', 'lemmatizer', 'ner']"
      ]
     },
     "execution_count": 4,
     "metadata": {},
     "output_type": "execute_result"
    }
   ],
   "source": [
    "nlp.pipe_names"
   ]
  },
  {
   "cell_type": "code",
   "execution_count": 5,
   "id": "03bd3bb0",
   "metadata": {},
   "outputs": [
    {
     "data": {
      "text/plain": [
       "[('tok2vec', <spacy.pipeline.tok2vec.Tok2Vec at 0x26c60b15b40>),\n",
       " ('tagger', <spacy.pipeline.tagger.Tagger at 0x26c60b15660>),\n",
       " ('parser', <spacy.pipeline.dep_parser.DependencyParser at 0x26c6087bed0>),\n",
       " ('attribute_ruler',\n",
       "  <spacy.pipeline.attributeruler.AttributeRuler at 0x26c60c81c80>),\n",
       " ('lemmatizer', <spacy.lang.en.lemmatizer.EnglishLemmatizer at 0x26c60c68d80>),\n",
       " ('ner', <spacy.pipeline.ner.EntityRecognizer at 0x26c6087bf40>)]"
      ]
     },
     "execution_count": 5,
     "metadata": {},
     "output_type": "execute_result"
    }
   ],
   "source": [
    "nlp.pipeline"
   ]
  },
  {
   "cell_type": "code",
   "execution_count": 25,
   "id": "2f0b03d2",
   "metadata": {},
   "outputs": [],
   "source": [
    "doc=nlp(\"salam captain. Iran is real. 100 is big. i told you Blyat. therefore i want pitza even though\")\n"
   ]
  },
  {
   "cell_type": "code",
   "execution_count": 26,
   "id": "85e7f6e8",
   "metadata": {},
   "outputs": [
    {
     "name": "stdout",
     "output_type": "stream",
     "text": [
      "salam //// salam //// PROPN //// False\n",
      "captain //// captain //// PROPN //// False\n",
      ". //// . //// PUNCT //// False\n",
      "Iran //// Iran //// PROPN //// False\n",
      "is //// be //// AUX //// True\n",
      "real //// real //// ADJ //// False\n",
      ". //// . //// PUNCT //// False\n",
      "100 //// 100 //// NUM //// False\n",
      "is //// be //// AUX //// True\n",
      "big //// big //// ADJ //// False\n",
      ". //// . //// PUNCT //// False\n",
      "i //// I //// PRON //// True\n",
      "told //// tell //// VERB //// False\n",
      "you //// you //// PRON //// True\n",
      "Blyat //// Blyat //// PROPN //// False\n",
      ". //// . //// PUNCT //// False\n",
      "therefore //// therefore //// ADV //// True\n",
      "i //// I //// PRON //// True\n",
      "want //// want //// VERB //// False\n",
      "pitza //// pitza //// NOUN //// False\n",
      "even //// even //// ADV //// True\n",
      "though //// though //// SCONJ //// True\n"
     ]
    }
   ],
   "source": [
    "for token in doc:\n",
    "    print(token, \"////\" , token.lemma_, \"////\",token.pos_, \"////\", token.is_stop)"
   ]
  },
  {
   "cell_type": "code",
   "execution_count": 35,
   "id": "dbbd11d0",
   "metadata": {},
   "outputs": [
    {
     "name": "stdout",
     "output_type": "stream",
     "text": [
      "Bloomberg //// PERSON //// People, including fictional\n",
      "Bloomberg //// ORG //// Companies, agencies, institutions, etc.\n",
      "new york //// GPE //// Countries, cities, states\n"
     ]
    }
   ],
   "source": [
    "doc=nlp(\"Google oragnization gave me $60 billion for free.\")\n",
    "doc2=nlp(\"Bloomberg founded data company onion called Bloomberg in new york\")\n",
    "for t in doc2.ents:\n",
    "    print(t.text, \"////\" , t.label_, \"////\", spacy.explain(t.label_))"
   ]
  },
  {
   "cell_type": "code",
   "execution_count": 36,
   "id": "71195e08",
   "metadata": {},
   "outputs": [
    {
     "data": {
      "text/html": [
       "<span class=\"tex2jax_ignore\"><div class=\"entities\" style=\"line-height: 2.5; direction: ltr\">\n",
       "<mark class=\"entity\" style=\"background: #aa9cfc; padding: 0.45em 0.6em; margin: 0 0.25em; line-height: 1; border-radius: 0.35em;\">\n",
       "    Bloomberg\n",
       "    <span style=\"font-size: 0.8em; font-weight: bold; line-height: 1; border-radius: 0.35em; vertical-align: middle; margin-left: 0.5rem\">PERSON</span>\n",
       "</mark>\n",
       " founded data company onion called \n",
       "<mark class=\"entity\" style=\"background: #7aecec; padding: 0.45em 0.6em; margin: 0 0.25em; line-height: 1; border-radius: 0.35em;\">\n",
       "    Bloomberg\n",
       "    <span style=\"font-size: 0.8em; font-weight: bold; line-height: 1; border-radius: 0.35em; vertical-align: middle; margin-left: 0.5rem\">ORG</span>\n",
       "</mark>\n",
       " in \n",
       "<mark class=\"entity\" style=\"background: #feca74; padding: 0.45em 0.6em; margin: 0 0.25em; line-height: 1; border-radius: 0.35em;\">\n",
       "    new york\n",
       "    <span style=\"font-size: 0.8em; font-weight: bold; line-height: 1; border-radius: 0.35em; vertical-align: middle; margin-left: 0.5rem\">GPE</span>\n",
       "</mark>\n",
       "</div></span>"
      ],
      "text/plain": [
       "<IPython.core.display.HTML object>"
      ]
     },
     "metadata": {},
     "output_type": "display_data"
    }
   ],
   "source": [
    "from spacy import displacy\n",
    "displacy.render(doc2,style=\"ent\")"
   ]
  },
  {
   "cell_type": "code",
   "execution_count": 39,
   "id": "3b0706d7",
   "metadata": {},
   "outputs": [
    {
     "data": {
      "text/plain": [
       "['ner']"
      ]
     },
     "execution_count": 39,
     "metadata": {},
     "output_type": "execute_result"
    }
   ],
   "source": [
    "nlp=spacy.blank(\"en\")\n",
    "src_nlp=spacy.load(\"en_core_web_sm\")\n",
    "nlp.add_pipe(\"ner\", source=src_nlp)\n",
    "nlp.pipe_names"
   ]
  },
  {
   "cell_type": "code",
   "execution_count": null,
   "id": "5a7693b1",
   "metadata": {},
   "outputs": [],
   "source": []
  }
 ],
 "metadata": {
  "kernelspec": {
   "display_name": "Python 3 (ipykernel)",
   "language": "python",
   "name": "python3"
  },
  "language_info": {
   "codemirror_mode": {
    "name": "ipython",
    "version": 3
   },
   "file_extension": ".py",
   "mimetype": "text/x-python",
   "name": "python",
   "nbconvert_exporter": "python",
   "pygments_lexer": "ipython3",
   "version": "3.10.9"
  }
 },
 "nbformat": 4,
 "nbformat_minor": 5
}
