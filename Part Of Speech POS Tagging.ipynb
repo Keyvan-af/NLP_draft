{
 "cells": [
  {
   "cell_type": "code",
   "execution_count": 1,
   "id": "a2cac2b2",
   "metadata": {},
   "outputs": [],
   "source": [
    "import spacy"
   ]
  },
  {
   "cell_type": "code",
   "execution_count": 2,
   "id": "54b9e550",
   "metadata": {},
   "outputs": [],
   "source": [
    "nlp=spacy.load(\"en_core_web_sm\")"
   ]
  },
  {
   "cell_type": "code",
   "execution_count": 40,
   "id": "0952cb8e",
   "metadata": {},
   "outputs": [],
   "source": [
    "doc=nlp(\"Elun travelled to mars immidietly etc. and else.\")"
   ]
  },
  {
   "cell_type": "code",
   "execution_count": 41,
   "id": "b201b95d",
   "metadata": {},
   "outputs": [
    {
     "name": "stdout",
     "output_type": "stream",
     "text": [
      "Elun ///// PROPN //// proper noun\n",
      "travelled ///// VERB //// verb\n",
      "to ///// ADP //// adposition\n",
      "mars ///// PROPN //// proper noun\n",
      "immidietly ///// ADV //// adverb\n",
      "etc ///// X //// other\n",
      ". ///// X //// other\n",
      "and ///// CCONJ //// coordinating conjunction\n",
      "else ///// ADV //// adverb\n",
      ". ///// PUNCT //// punctuation\n"
     ]
    }
   ],
   "source": [
    "for token in doc:\n",
    "    print(token, \"/////\", token.pos_, \"////\", spacy.explain(token.pos_))"
   ]
  },
  {
   "cell_type": "code",
   "execution_count": 37,
   "id": "fba324a7",
   "metadata": {},
   "outputs": [
    {
     "name": "stdout",
     "output_type": "stream",
     "text": [
      "wow ///// UH //// interjection\n",
      "! ///// . //// punctuation mark, sentence closer\n",
      "Elun ///// NNP //// noun, proper singular\n",
      "travelled ///// VBD //// verb, past tense\n",
      "to ///// IN //// conjunction, subordinating or preposition\n",
      "mars ///// NNP //// noun, proper singular\n",
      "immidietly ///// RB //// adverb\n",
      "etc ///// FW //// foreign word\n",
      ". ///// . //// punctuation mark, sentence closer\n"
     ]
    }
   ],
   "source": [
    "doc=nlp(\"wow! Elun travelled to mars immidietly.\")\n",
    "for token in doc:\n",
    "    print(token, \"/////\", token.tag_, \"////\", spacy.explain(token.tag_))"
   ]
  },
  {
   "cell_type": "code",
   "execution_count": 26,
   "id": "dee49ecb",
   "metadata": {},
   "outputs": [
    {
     "name": "stdout",
     "output_type": "stream",
     "text": [
      "quits ///// VBZ //// verb, 3rd person singular present\n"
     ]
    }
   ],
   "source": [
    "doc=nlp(\"He quits the job.\")\n",
    "\n",
    "print(doc[1], \"/////\", doc[1].tag_, \"////\", spacy.explain(doc[1].tag_))"
   ]
  },
  {
   "cell_type": "code",
   "execution_count": 27,
   "id": "75728940",
   "metadata": {},
   "outputs": [
    {
     "name": "stdout",
     "output_type": "stream",
     "text": [
      "quit ///// VBD //// verb, past tense\n"
     ]
    }
   ],
   "source": [
    "doc=nlp(\"He quit the job.\")\n",
    "\n",
    "print(doc[1], \"/////\", doc[1].tag_, \"////\", spacy.explain(doc[1].tag_))"
   ]
  },
  {
   "cell_type": "code",
   "execution_count": 49,
   "id": "f6f2ba67",
   "metadata": {},
   "outputs": [
    {
     "name": "stdout",
     "output_type": "stream",
     "text": [
      "hello\n",
      "Google\n",
      "LLC\n",
      "is\n",
      "an\n",
      "American\n",
      "multinational\n",
      "technology\n",
      "company\n",
      "focusing\n",
      "on\n",
      "artificial\n",
      "intelligence\n",
      "online\n",
      "advertising\n",
      "search\n",
      "engine\n",
      "technology\n",
      "cloud\n",
      "computing\n",
      "computer\n",
      "software\n",
      "quantum\n",
      "computing\n",
      "e\n",
      "-\n",
      "commerce\n",
      "and\n",
      "consumer\n",
      "electronics\n"
     ]
    }
   ],
   "source": [
    "random_text = \"hello! Google LLC is an American multinational technology company focusing on artificial intelligence, online advertising, search engine technology, cloud computing, computer software, quantum computing, e-commerce, and consumer electronics.\"\n",
    "\n",
    "doc = nlp(random_text)\n",
    "\n",
    "useful_tokens=[]\n",
    "\n",
    "for token in doc:\n",
    "    if token.pos_ not in [\"SPACE\", \"X\", \"PUNCT\"]:\n",
    "            print(token)\n",
    "            useful_tokens.append(token)\n"
   ]
  },
  {
   "cell_type": "code",
   "execution_count": 58,
   "id": "85bb73fc",
   "metadata": {},
   "outputs": [
    {
     "data": {
      "text/plain": [
       "[hello,\n",
       " Google,\n",
       " LLC,\n",
       " is,\n",
       " an,\n",
       " American,\n",
       " multinational,\n",
       " technology,\n",
       " company,\n",
       " focusing,\n",
       " on,\n",
       " artificial,\n",
       " intelligence,\n",
       " online,\n",
       " advertising,\n",
       " search,\n",
       " engine,\n",
       " technology,\n",
       " cloud,\n",
       " computing,\n",
       " computer,\n",
       " software,\n",
       " quantum,\n",
       " computing,\n",
       " e,\n",
       " -,\n",
       " commerce,\n",
       " and,\n",
       " consumer,\n",
       " electronics]"
      ]
     },
     "execution_count": 58,
     "metadata": {},
     "output_type": "execute_result"
    }
   ],
   "source": [
    "useful_tokens"
   ]
  },
  {
   "cell_type": "code",
   "execution_count": 50,
   "id": "b16923ef",
   "metadata": {},
   "outputs": [
    {
     "data": {
      "text/plain": [
       "{91: 1, 97: 9, 96: 3, 87: 1, 90: 1, 84: 4, 92: 17, 100: 1, 85: 1, 89: 1}"
      ]
     },
     "execution_count": 50,
     "metadata": {},
     "output_type": "execute_result"
    }
   ],
   "source": [
    "count= doc.count_by(spacy.attrs.POS)\n",
    "count"
   ]
  },
  {
   "cell_type": "code",
   "execution_count": 55,
   "id": "15372e9e",
   "metadata": {},
   "outputs": [
    {
     "data": {
      "text/plain": [
       "'PROPN'"
      ]
     },
     "execution_count": 55,
     "metadata": {},
     "output_type": "execute_result"
    }
   ],
   "source": [
    "doc.vocab[96].text"
   ]
  },
  {
   "cell_type": "code",
   "execution_count": 57,
   "id": "025c5455",
   "metadata": {},
   "outputs": [
    {
     "name": "stdout",
     "output_type": "stream",
     "text": [
      "INTJ /// 1\n",
      "PUNCT /// 9\n",
      "PROPN /// 3\n",
      "AUX /// 1\n",
      "DET /// 1\n",
      "ADJ /// 4\n",
      "NOUN /// 17\n",
      "VERB /// 1\n",
      "ADP /// 1\n",
      "CCONJ /// 1\n"
     ]
    }
   ],
   "source": [
    "for k,v in count.items():\n",
    "    print(doc.vocab[k].text, \"///\", v)"
   ]
  },
  {
   "cell_type": "code",
   "execution_count": null,
   "id": "36b375a2",
   "metadata": {},
   "outputs": [],
   "source": []
  }
 ],
 "metadata": {
  "kernelspec": {
   "display_name": "Python 3 (ipykernel)",
   "language": "python",
   "name": "python3"
  },
  "language_info": {
   "codemirror_mode": {
    "name": "ipython",
    "version": 3
   },
   "file_extension": ".py",
   "mimetype": "text/x-python",
   "name": "python",
   "nbconvert_exporter": "python",
   "pygments_lexer": "ipython3",
   "version": "3.10.9"
  }
 },
 "nbformat": 4,
 "nbformat_minor": 5
}
