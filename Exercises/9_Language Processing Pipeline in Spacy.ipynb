{
 "cells": [
  {
   "cell_type": "code",
   "execution_count": 1,
   "id": "14e70783",
   "metadata": {},
   "outputs": [],
   "source": [
    "#importing necessary libraries \n",
    "import spacy\n",
    "\n",
    "nlp = spacy.load(\"en_core_web_sm\")  #creating an object and loading the pre-trained model for \"English\""
   ]
  },
  {
   "cell_type": "code",
   "execution_count": 22,
   "id": "55d1b757",
   "metadata": {},
   "outputs": [
    {
     "name": "stdout",
     "output_type": "stream",
     "text": [
      "['Ravi', 'Raju', 'Paris', 'London', 'Dubai', 'Rome', 'Mohan', 'Hyderabad']\n",
      "Count:8\n"
     ]
    }
   ],
   "source": [
    "text = ''' Ravi and Raju are the best friends from school days.They wanted to go for a world tour and \n",
    "visit famous cities like Paris, London, Dubai, Rome etc and also they called their another friend Mohan to take part of this world tour.\n",
    "They started their journey from Hyderabad and spent next 3 months travelling all the wonderful cities in the world and cherish a happy moments!\n",
    "'''\n",
    "doc = nlp(text)   \n",
    "# https://spacy.io/usage/linguistic-features\n",
    "# for token in doc:\n",
    "#     print(token.pos_)\n",
    "i=0\n",
    "pn = []\n",
    "for token in doc:\n",
    "    if token.pos_ == 'PROPN':\n",
    "        pn.append(token.text)\n",
    "        i = i+1\n",
    "print(pn)\n",
    "print('Count:'+ str(i))\n",
    "#creating the nlp object\n"
   ]
  },
  {
   "cell_type": "code",
   "execution_count": 27,
   "id": "c83928e3",
   "metadata": {},
   "outputs": [
    {
     "name": "stdout",
     "output_type": "stream",
     "text": [
      "['Tesla', 'Walmart', 'Amazon', 'Microsoft', 'Google', 'Infosys', 'Reliance', 'HDFC Bank', 'Hindustan Unilever', 'Bharti']\n",
      "Count:10\n"
     ]
    }
   ],
   "source": [
    "text = '''The Top 5 companies in USA are Tesla, Walmart, Amazon, Microsoft, Google and the top 5 companies in \n",
    "India are Infosys, Reliance, HDFC Bank, Hindustan Unilever and Bharti Airtel'''\n",
    "\n",
    "\n",
    "doc = nlp(text)\n",
    "\n",
    "# for token in doc.ents:\n",
    "#     print(token.label_)\n",
    "i=0\n",
    "pn = []\n",
    "for ent in doc.ents:\n",
    "    if ent.label_ == 'ORG':\n",
    "        pn.append(ent.text)\n",
    "        i = i+1\n",
    "print(pn)\n",
    "print('Count:'+ str(i))"
   ]
  },
  {
   "cell_type": "code",
   "execution_count": null,
   "id": "5457eb7c",
   "metadata": {},
   "outputs": [],
   "source": []
  }
 ],
 "metadata": {
  "kernelspec": {
   "display_name": "Python 3 (ipykernel)",
   "language": "python",
   "name": "python3"
  },
  "language_info": {
   "codemirror_mode": {
    "name": "ipython",
    "version": 3
   },
   "file_extension": ".py",
   "mimetype": "text/x-python",
   "name": "python",
   "nbconvert_exporter": "python",
   "pygments_lexer": "ipython3",
   "version": "3.10.9"
  }
 },
 "nbformat": 4,
 "nbformat_minor": 5
}
