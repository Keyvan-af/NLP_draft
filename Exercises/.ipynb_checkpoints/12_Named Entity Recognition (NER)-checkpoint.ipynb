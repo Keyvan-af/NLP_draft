{
 "cells": [
  {
   "cell_type": "code",
   "execution_count": 1,
   "id": "ccc2cf98",
   "metadata": {},
   "outputs": [],
   "source": [
    "#importing necessary libraries \n",
    "import spacy\n",
    "\n",
    "nlp = spacy.load(\"en_core_web_sm\")  #creating an object and loading the pre-trained model for \"English\""
   ]
  },
  {
   "cell_type": "code",
   "execution_count": 5,
   "id": "9207c092",
   "metadata": {},
   "outputs": [
    {
     "name": "stdout",
     "output_type": "stream",
     "text": [
      "Geographical location Names: [India, Delhi, Gujarat, Tamilnadu, Pongal, Andhrapradesh, Assam, Bihar]\n",
      "Count: 8\n"
     ]
    }
   ],
   "source": [
    "text = \"\"\"Kiran want to know the famous foods in each state of India. So, he opened Google and search for this question. Google showed that\n",
    "in Delhi it is Chaat, in Gujarat it is Dal Dhokli, in Tamilnadu it is Pongal, in Andhrapradesh it is Biryani, in Assam it is Papaya Khar,\n",
    "in Bihar it is Litti Chowkha and so on for all other states\"\"\"\n",
    "\n",
    "doc = nlp(text)\n",
    "\n",
    "# for ent in doc.ents:\n",
    "#     print(ent.text ,ent.label_)\n",
    "    \n",
    "ent_GPE =[]\n",
    "i=0\n",
    "for ent in doc.ents:\n",
    "    if ent.label_ == 'GPE' :\n",
    "        ent_GPE.append(ent)\n",
    "        i = i+1\n",
    "        \n",
    "print('Geographical location Names:', ent_GPE)\n",
    "print('Count:', i)"
   ]
  },
  {
   "cell_type": "code",
   "execution_count": 12,
   "id": "a343e6b5",
   "metadata": {},
   "outputs": [
    {
     "name": "stdout",
     "output_type": "stream",
     "text": [
      "[24 April 1973, 5 November 1988, 7 July 1981, 19 December 1974]\n",
      "Count: 4\n"
     ]
    }
   ],
   "source": [
    "text = \"\"\"Sachin Tendulkar was born on 24 April 1973, Virat Kholi was born on 5 November 1988, Dhoni was born on 7 July 1981\n",
    "and finally Ricky ponting was born on 19 December 1974.\"\"\"\n",
    "\n",
    "doc = nlp(text)\n",
    "\n",
    "# for ent in doc.ents:\n",
    "#     print(ent.text, '|', ent.label_)\n",
    "ent_date = []\n",
    "i = 0\n",
    "\n",
    "for ent in doc.ents:\n",
    "    if ent.label_ == 'DATE' :\n",
    "        ent_date.append(ent)\n",
    "        i = i+1\n",
    "        \n",
    "print(ent_date)\n",
    "print('Count:', i)"
   ]
  },
  {
   "cell_type": "code",
   "execution_count": null,
   "id": "f9e47ba0",
   "metadata": {},
   "outputs": [],
   "source": []
  }
 ],
 "metadata": {
  "kernelspec": {
   "display_name": "Python 3 (ipykernel)",
   "language": "python",
   "name": "python3"
  },
  "language_info": {
   "codemirror_mode": {
    "name": "ipython",
    "version": 3
   },
   "file_extension": ".py",
   "mimetype": "text/x-python",
   "name": "python",
   "nbconvert_exporter": "python",
   "pygments_lexer": "ipython3",
   "version": "3.10.9"
  }
 },
 "nbformat": 4,
 "nbformat_minor": 5
}
