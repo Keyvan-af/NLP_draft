{
 "cells": [
  {
   "cell_type": "code",
   "execution_count": 2,
   "id": "484fe508",
   "metadata": {},
   "outputs": [],
   "source": [
    "import nltk\n",
    "import spacy"
   ]
  },
  {
   "cell_type": "code",
   "execution_count": 4,
   "id": "1d9e29fc",
   "metadata": {},
   "outputs": [],
   "source": [
    "from nltk.stem import PorterStemmer\n",
    "\n",
    "stemmer = PorterStemmer()"
   ]
  },
  {
   "cell_type": "code",
   "execution_count": 5,
   "id": "1dc79518",
   "metadata": {},
   "outputs": [
    {
     "name": "stdout",
     "output_type": "stream",
     "text": [
      "eating //// eat\n",
      "eat //// eat\n",
      "ate //// ate\n",
      "eats //// eat\n",
      "ability //// abil\n"
     ]
    }
   ],
   "source": [
    "words=[\"eating\", \"eat\", \"ate\", \"eats\", \"ability\"]\n",
    "\n",
    "for word in words:\n",
    "    print(word, \"////\", stemmer.stem(word))"
   ]
  },
  {
   "cell_type": "code",
   "execution_count": 11,
   "id": "ba24d3c7",
   "metadata": {},
   "outputs": [
    {
     "name": "stdout",
     "output_type": "stream",
     "text": [
      "eating //// eat //// 9837207709914848172\n",
      "eats //// eat //// 9837207709914848172\n",
      "eat //// eat //// 9837207709914848172\n",
      "ate //// eat //// 9837207709914848172\n",
      "adjustable //// adjustable //// 6033511944150694480\n",
      "ability //// ability //// 11565809527369121409\n",
      "rafting //// raft //// 7154368781129989833\n",
      "good //// good //// 5711639017775284443\n",
      "meeting //// meeting //// 14798207169164081740\n",
      "better //// well //// 4525988469032889948\n",
      "well //// well //// 4525988469032889948\n",
      "best //// well //// 4525988469032889948\n",
      "worse //// worse //// 15932487760797679903\n",
      "worst //// worst //// 10555979147125144223\n",
      "bad //// bad //// 12342627399458421040\n"
     ]
    }
   ],
   "source": [
    "nlp =spacy.load(\"en_core_web_sm\")\n",
    "\n",
    "doc=nlp(\"eating eats eat ate adjustable ability rafting good meeting better well best worse worst bad\")\n",
    "\n",
    "for token in doc:\n",
    "    print(token, \"////\", token.lemma_, \"////\", token.lemma)"
   ]
  },
  {
   "cell_type": "code",
   "execution_count": 12,
   "id": "6a2ca4fb",
   "metadata": {},
   "outputs": [
    {
     "data": {
      "text/plain": [
       "['tok2vec', 'tagger', 'parser', 'attribute_ruler', 'lemmatizer', 'ner']"
      ]
     },
     "execution_count": 12,
     "metadata": {},
     "output_type": "execute_result"
    }
   ],
   "source": [
    "nlp.pipe_names"
   ]
  },
  {
   "cell_type": "code",
   "execution_count": 23,
   "id": "36346440",
   "metadata": {},
   "outputs": [
    {
     "name": "stdout",
     "output_type": "stream",
     "text": [
      "hey //// hey\n",
      "Bro //// Brother\n",
      ", //// ,\n",
      "wahtsup //// wahtsup\n",
      ", //// ,\n",
      "Brother //// Brother\n",
      "told //// tell\n",
      "me //// I\n",
      "Brah //// Brother\n"
     ]
    }
   ],
   "source": [
    "nlp.get_pipe(\"attribute_ruler\").add([[{\"TEXT\":\"BRO\"}],[{\"TEXT\":\"brah\"}]],{\"LEMMA\":\"Brother\"})\n",
    "\n",
    "doc= nlp(\"hey Bro, wahtsup, Brother told me Brah\")\n",
    "\n",
    "for token in doc:\n",
    "    print(token, \"////\", token.lemma_)"
   ]
  },
  {
   "cell_type": "code",
   "execution_count": 24,
   "id": "1f91953e",
   "metadata": {},
   "outputs": [
    {
     "data": {
      "text/plain": [
       "'Brother'"
      ]
     },
     "execution_count": 24,
     "metadata": {},
     "output_type": "execute_result"
    }
   ],
   "source": [
    "doc[-1].lemma_"
   ]
  },
  {
   "cell_type": "code",
   "execution_count": null,
   "id": "be3dda1c",
   "metadata": {},
   "outputs": [],
   "source": []
  }
 ],
 "metadata": {
  "kernelspec": {
   "display_name": "Python 3 (ipykernel)",
   "language": "python",
   "name": "python3"
  },
  "language_info": {
   "codemirror_mode": {
    "name": "ipython",
    "version": 3
   },
   "file_extension": ".py",
   "mimetype": "text/x-python",
   "name": "python",
   "nbconvert_exporter": "python",
   "pygments_lexer": "ipython3",
   "version": "3.10.9"
  }
 },
 "nbformat": 4,
 "nbformat_minor": 5
}
